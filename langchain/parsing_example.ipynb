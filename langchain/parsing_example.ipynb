{
 "cells": [
  {
   "cell_type": "code",
   "execution_count": 1,
   "metadata": {},
   "outputs": [],
   "source": [
    "from langchain_core.output_parsers import StrOutputParser, JsonOutputParser, RegexOutputParser\n",
    "from langchain_core.prompts import PromptTemplate\n",
    "from langchain_openai import ChatOpenAI\n"
   ]
  },
  {
   "cell_type": "code",
   "execution_count": null,
   "metadata": {},
   "outputs": [
    {
     "ename": "NameError",
     "evalue": "name 'ChatOpenAI' is not defined",
     "output_type": "error",
     "traceback": [
      "\u001b[1;31m---------------------------------------------------------------------------\u001b[0m",
      "\u001b[1;31mNameError\u001b[0m                                 Traceback (most recent call last)",
      "Cell \u001b[1;32mIn[2], line 5\u001b[0m\n\u001b[0;32m      2\u001b[0m \u001b[38;5;28;01mdef\u001b[39;00m \u001b[38;5;21minitialize_llm\u001b[39m(model_name\u001b[38;5;241m=\u001b[39m\u001b[38;5;124m\"\u001b[39m\u001b[38;5;124mgpt-3.5-turbo\u001b[39m\u001b[38;5;124m\"\u001b[39m):\n\u001b[0;32m      3\u001b[0m     \u001b[38;5;28;01mreturn\u001b[39;00m ChatOpenAI(model\u001b[38;5;241m=\u001b[39mmodel_name)\n\u001b[1;32m----> 5\u001b[0m llm \u001b[38;5;241m=\u001b[39m initialize_llm()\n",
      "Cell \u001b[1;32mIn[2], line 3\u001b[0m, in \u001b[0;36minitialize_llm\u001b[1;34m(model_name)\u001b[0m\n\u001b[0;32m      2\u001b[0m \u001b[38;5;28;01mdef\u001b[39;00m \u001b[38;5;21minitialize_llm\u001b[39m(model_name\u001b[38;5;241m=\u001b[39m\u001b[38;5;124m\"\u001b[39m\u001b[38;5;124mgpt-3.5-turbo\u001b[39m\u001b[38;5;124m\"\u001b[39m):\n\u001b[1;32m----> 3\u001b[0m     \u001b[38;5;28;01mreturn\u001b[39;00m ChatOpenAI(model\u001b[38;5;241m=\u001b[39mmodel_name)\n",
      "\u001b[1;31mNameError\u001b[0m: name 'ChatOpenAI' is not defined"
     ]
    }
   ],
   "source": [
    "# Initialize the language model\n",
    "llm = ChatOpenAI(model=\"gpt-3.5-turbo\")"
   ]
  },
  {
   "cell_type": "code",
   "execution_count": 3,
   "metadata": {},
   "outputs": [],
   "source": [
    "# String Output Parser\n",
    "str_output_parser = StrOutputParser()\n",
    "str_prompt = PromptTemplate(\n",
    "    template=\"What is your name?\",\n",
    "    input_variables=[],\n",
    "    output_parser=str_output_parser\n",
    ")\n",
    "str_response = llm.invoke(str_prompt)\n",
    "print(\"String Output:\", str_response)"
   ]
  },
  {
   "cell_type": "code",
   "execution_count": 4,
   "metadata": {},
   "outputs": [],
   "source": [
    "# JSON Output Parser\n",
    "json_output_parser = JsonOutputParser()\n",
    "json_prompt = PromptTemplate(\n",
    "    template=\"Provide a JSON object with your name and age.\",\n",
    "    input_variables=[],\n",
    "    output_parser=json_output_parser\n",
    ")\n",
    "json_response = llm.invoke(json_prompt)\n",
    "print(\"JSON Output:\", json_response)"
   ]
  },
  {
   "cell_type": "code",
   "execution_count": 5,
   "metadata": {},
   "outputs": [],
   "source": [
    "# Regex Output Parser\n",
    "regex_output_parser = RegexOutputParser(pattern=r\"Name: (\\w+), Age: (\\d+)\")\n",
    "regex_prompt = PromptTemplate(\n",
    "    template=\"Name: John, Age: 30\",\n",
    "    input_variables=[],\n",
    "    output_parser=regex_output_parser\n",
    ")\n",
    "regex_response = llm.invoke(regex_prompt)\n",
    "print(\"Regex Output:\", regex_response)"
   ]
  }
 ],
 "metadata": {
  "kernelspec": {
   "display_name": "Python 3",
   "language": "python",
   "name": "python3"
  },
  "language_info": {
   "codemirror_mode": {
    "name": "ipython",
    "version": 3
   },
   "file_extension": ".py",
   "mimetype": "text/x-python",
   "name": "python",
   "nbconvert_exporter": "python",
   "pygments_lexer": "ipython3",
   "version": "3.12.0"
  }
 },
 "nbformat": 4,
 "nbformat_minor": 2
}
